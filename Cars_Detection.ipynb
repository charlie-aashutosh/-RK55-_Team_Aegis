{
  "nbformat": 4,
  "nbformat_minor": 0,
  "metadata": {
    "colab": {
      "name": "Cars_Detection.ipynb",
      "provenance": [],
      "collapsed_sections": [],
      "authorship_tag": "ABX9TyNWfSzUxjkjOl66X0R1KvAR",
      "include_colab_link": true
    },
    "kernelspec": {
      "name": "python3",
      "display_name": "Python 3"
    },
    "accelerator": "GPU"
  },
  "cells": [
    {
      "cell_type": "markdown",
      "metadata": {
        "id": "view-in-github",
        "colab_type": "text"
      },
      "source": [
        "<a href=\"https://colab.research.google.com/github/charlie-aashutosh/-RK55-_Team_Aegis/blob/master/Cars_Detection.ipynb\" target=\"_parent\"><img src=\"https://colab.research.google.com/assets/colab-badge.svg\" alt=\"Open In Colab\"/></a>"
      ]
    },
    {
      "cell_type": "code",
      "metadata": {
        "id": "dAdx-LCWA21D",
        "colab_type": "code",
        "colab": {}
      },
      "source": [
        "import cv2\n",
        "import time\n",
        "import numpy as np\n"
      ],
      "execution_count": 1,
      "outputs": []
    },
    {
      "cell_type": "code",
      "metadata": {
        "id": "uPV5bsbvEtkL",
        "colab_type": "code",
        "colab": {}
      },
      "source": [
        "from google.colab.patches import cv2_imshow"
      ],
      "execution_count": 2,
      "outputs": []
    },
    {
      "cell_type": "code",
      "metadata": {
        "id": "oVv_U1BhBPBi",
        "colab_type": "code",
        "colab": {}
      },
      "source": [
        "# Create our body classifier\n",
        "car_classifier = cv2.CascadeClassifier('/content/haarcascade_car.xml')"
      ],
      "execution_count": 3,
      "outputs": []
    },
    {
      "cell_type": "code",
      "metadata": {
        "id": "QUBTvcrOEfQr",
        "colab_type": "code",
        "colab": {}
      },
      "source": [
        "\n",
        "# Initiate video capture for video file\n",
        "cap = cv2.VideoCapture('/content/cars.avi')"
      ],
      "execution_count": 4,
      "outputs": []
    },
    {
      "cell_type": "code",
      "metadata": {
        "id": "DuPJyOnjEl37",
        "colab_type": "code",
        "colab": {}
      },
      "source": [
        "# Loop once video is successfully loaded\n",
        "while cap.isOpened():\n",
        "    \n",
        "    time.sleep(.05)\n",
        "    # Read first frame\n",
        "    ret, frame = cap.read()\n",
        "    gray = cv2.cvtColor(frame, cv2.COLOR_BGR2GRAY)\n",
        "   \n",
        "    # Pass frame to our car classifier\n",
        "    cars = car_classifier.detectMultiScale(gray, 1.4, 2)\n",
        "    \n",
        "    # Extract bounding boxes for any bodies identified\n",
        "    for (x,y,w,h) in cars:\n",
        "        cv2.rectangle(frame, (x, y), (x+w, y+h), (0, 255, 255), 2)\n",
        "        cv2_imshow( frame)\n",
        "\n",
        "    if cv2.waitKey(1) == 13: #13 is the Enter Key\n",
        "        break\n",
        "\n",
        "cap.release()\n",
        "cv2.destroyAllWindows()"
      ],
      "execution_count": 5,
      "outputs": []
    },
    {
      "cell_type": "code",
      "metadata": {
        "id": "k3gBk09CEp1Q",
        "colab_type": "code",
        "colab": {}
      },
      "source": [
        ""
      ],
      "execution_count": null,
      "outputs": []
    }
  ]
}